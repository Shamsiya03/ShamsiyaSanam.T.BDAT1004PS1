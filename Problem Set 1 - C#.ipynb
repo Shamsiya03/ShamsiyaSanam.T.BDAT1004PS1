{
 "cells": [
  {
   "cell_type": "markdown",
   "id": "5e1e836e",
   "metadata": {},
   "source": [
    "Question 1\n",
    "What data type is each of the following? \n",
    "5\n",
    "5.0\n",
    "5 > 1\n",
    "'5'\n",
    "5 * 2\n",
    "'5' * 2\n",
    "'5' + '2'\n",
    "5 / 2\n",
    "5%2\n",
    "{5, 2, 1}\n",
    "5== 3\n",
    "Pi(the number)\n"
   ]
  },
  {
   "cell_type": "code",
   "execution_count": 80,
   "id": "7c0ae54d",
   "metadata": {},
   "outputs": [
    {
     "name": "stdout",
     "output_type": "stream",
     "text": [
      "System.Int32\r\n"
     ]
    }
   ],
   "source": [
    "var x= 5;\n",
    "Console.WriteLine(x.GetType());"
   ]
  },
  {
   "cell_type": "code",
   "execution_count": 81,
   "id": "e717a88e",
   "metadata": {},
   "outputs": [
    {
     "name": "stdout",
     "output_type": "stream",
     "text": [
      "System.Double\r\n"
     ]
    }
   ],
   "source": [
    "var x=5.0;\n",
    "Console.WriteLine(x.GetType());"
   ]
  },
  {
   "cell_type": "code",
   "execution_count": 82,
   "id": "094b6eef",
   "metadata": {},
   "outputs": [
    {
     "name": "stdout",
     "output_type": "stream",
     "text": [
      "System.Boolean\r\n"
     ]
    }
   ],
   "source": [
    "var x=5 > 1;\n",
    "Console.WriteLine(x.GetType());"
   ]
  },
  {
   "cell_type": "code",
   "execution_count": 83,
   "id": "14f33a18",
   "metadata": {},
   "outputs": [
    {
     "name": "stdout",
     "output_type": "stream",
     "text": [
      "System.Char\r\n"
     ]
    }
   ],
   "source": [
    "var x='5';\n",
    "Console.WriteLine(x.GetType());"
   ]
  },
  {
   "cell_type": "code",
   "execution_count": 85,
   "id": "b6596fae",
   "metadata": {},
   "outputs": [
    {
     "name": "stdout",
     "output_type": "stream",
     "text": [
      "System.Int32\r\n"
     ]
    }
   ],
   "source": [
    "var x='5' * 2;\n",
    "Console.WriteLine(x.GetType());"
   ]
  },
  {
   "cell_type": "code",
   "execution_count": 86,
   "id": "5a85d249",
   "metadata": {},
   "outputs": [
    {
     "name": "stdout",
     "output_type": "stream",
     "text": [
      "System.Int32\r\n"
     ]
    }
   ],
   "source": [
    "var x='5' + '2';\n",
    "Console.WriteLine(x.GetType());"
   ]
  },
  {
   "cell_type": "code",
   "execution_count": 87,
   "id": "160d7229",
   "metadata": {},
   "outputs": [
    {
     "name": "stdout",
     "output_type": "stream",
     "text": [
      "System.Int32\r\n"
     ]
    }
   ],
   "source": [
    "var x=5 / 2;\n",
    "Console.WriteLine(x.GetType());"
   ]
  },
  {
   "cell_type": "code",
   "execution_count": 88,
   "id": "3609bfee",
   "metadata": {},
   "outputs": [
    {
     "name": "stdout",
     "output_type": "stream",
     "text": [
      "System.Int32\r\n"
     ]
    }
   ],
   "source": [
    "var x=5%2;\n",
    "Console.WriteLine(x.GetType());"
   ]
  },
  {
   "cell_type": "code",
   "execution_count": 1,
   "id": "0d652f4b",
   "metadata": {},
   "outputs": [
    {
     "name": "stdout",
     "output_type": "stream",
     "text": [
      "System.Int32[]\r\n"
     ]
    }
   ],
   "source": [
    "int[] array ={5,2,1};\n",
    "Console.WriteLine(array.GetType());"
   ]
  },
  {
   "cell_type": "code",
   "execution_count": 91,
   "id": "79bdd18f",
   "metadata": {},
   "outputs": [
    {
     "name": "stdout",
     "output_type": "stream",
     "text": [
      "System.Boolean\r\n"
     ]
    }
   ],
   "source": [
    "var x= 5==3;\n",
    "Console.WriteLine(x.GetType());"
   ]
  },
  {
   "cell_type": "code",
   "execution_count": 97,
   "id": "1ffd3f6c",
   "metadata": {},
   "outputs": [
    {
     "name": "stdout",
     "output_type": "stream",
     "text": [
      "System.Double\r\n"
     ]
    }
   ],
   "source": [
    "var x=Math.PI;\n",
    "Console.WriteLine(x.GetType());"
   ]
  },
  {
   "cell_type": "markdown",
   "id": "b747ef9f",
   "metadata": {},
   "source": [
    "Question 2 \n",
    "Write (and evaluate) C# expressions that answer these questions:\n",
    "a. How many letters are there in 'Supercalifragilisticexpialidocious'?"
   ]
  },
  {
   "cell_type": "code",
   "execution_count": 45,
   "id": "e783e7a3",
   "metadata": {
    "scrolled": true
   },
   "outputs": [
    {
     "name": "stdout",
     "output_type": "stream",
     "text": [
      "The letters in the word Supercalifragilisticexpialidocious is 34\r\n"
     ]
    }
   ],
   "source": [
    "string word = \"Supercalifragilisticexpialidocious\";\n",
    "Console.WriteLine($\"The letters in the word {word} is {word.Length}\");\n"
   ]
  },
  {
   "cell_type": "markdown",
   "id": "ad91bafa",
   "metadata": {},
   "source": [
    "b.\n",
    "\n",
    "Does 'Supercalifragilisticexpialidocious' contain 'ice' as a substring?"
   ]
  },
  {
   "cell_type": "code",
   "execution_count": 49,
   "id": "4d724290",
   "metadata": {},
   "outputs": [
    {
     "name": "stdout",
     "output_type": "stream",
     "text": [
      "True\r\n"
     ]
    }
   ],
   "source": [
    "string word = \"Supercalifragilisticexpialidocious\";\n",
    "bool ans = word.Contains(\"ice\");\n",
    "Console.WriteLine(ans);"
   ]
  },
  {
   "cell_type": "markdown",
   "id": "a3a2bc4b",
   "metadata": {},
   "source": [
    "c.\n",
    "\n",
    "Which of the following words is the longest:\n",
    "Supercalifragilisticexpialidocious, Honorificabilitudinitatibus, or\n",
    "Bababadalgharaghtakamminarronnkonn?"
   ]
  },
  {
   "cell_type": "code",
   "execution_count": 1,
   "id": "176bdecd",
   "metadata": {},
   "outputs": [
    {
     "name": "stdout",
     "output_type": "stream",
     "text": [
      "The longest words are: Supercalifragilisticexpialidocious, Bababadalgharaghtakamminarronnkonn.\r\n"
     ]
    }
   ],
   "source": [
    "string word1 = \"Supercalifragilisticexpialidocious\";\n",
    "string word2 = \"Honorificabilitudinitatibus\";\n",
    "string word3 = \"Bababadalgharaghtakamminarronnkonn\";\n",
    "\n",
    "int length1 = word1.Length;\n",
    "int length2 = word2.Length;\n",
    "int length3 = word3.Length;\n",
    "\n",
    "string longestWord = \"\"; \n",
    "int maximumLength = 0; \n",
    "\n",
    "\n",
    "if (length1 >= maximumLength)\n",
    "{\n",
    "    if (length1 > maximumLength)\n",
    "    {\n",
    "        maximumLength = length1;\n",
    "        longestWord = word1;\n",
    "    }\n",
    "    else\n",
    "    {\n",
    "        longestWord += \", \" + word1;\n",
    "    }\n",
    "}\n",
    "\n",
    "if (length2 >= maximumLength)\n",
    "{\n",
    "    if (length2 > maximumLength)\n",
    "    {\n",
    "        maximumLength = length2;\n",
    "        longestWord = word2;\n",
    "    }\n",
    "    else\n",
    "    {\n",
    "        longestWord += \", \" + word2;\n",
    "    }\n",
    "}\n",
    "\n",
    "if (length3 >= maximumLength)\n",
    "{\n",
    "    if (length3 > maximumLength)\n",
    "    {\n",
    "        maximumLength = length3;\n",
    "        longestWord = word3;\n",
    "    }\n",
    "    else\n",
    "    {\n",
    "        longestWord += \", \" + word3;\n",
    "    }\n",
    "}\n",
    "\n",
    "Console.WriteLine($\"The longest words are: {longestWord}.\" );"
   ]
  },
  {
   "cell_type": "markdown",
   "id": "ff57c266",
   "metadata": {},
   "source": [
    "d.\n",
    "Which composer comes first in the dictionary: 'Berlioz', 'Borodin', 'Brian',\n",
    "'Bartok', 'Bellini', 'Buxtehude', 'Bernstein'. Which one comes last?"
   ]
  },
  {
   "cell_type": "code",
   "execution_count": 66,
   "id": "50cf3b34",
   "metadata": {},
   "outputs": [
    {
     "name": "stdout",
     "output_type": "stream",
     "text": [
      "The first composer in the dictionary: Bartok\n",
      "The last composer in the dictionary: Buxtehude\n"
     ]
    }
   ],
   "source": [
    "string[] composers = { \"Berlioz\", \"Borodin\", \"Brian\", \"Bartok\", \"Bellini\", \"Buxtehude\", \"Bernstein\" };\n",
    "\n",
    "string composer1 = composers[0];\n",
    "string composer2 = composers[0];\n",
    "\n",
    "foreach (string comp in composers)\n",
    "{\n",
    "\n",
    "    if (string.Compare(comp, composer1) < 0)\n",
    "    {\n",
    "        composer1 = comp;\n",
    "    }\n",
    "    else if (string.Compare(comp, composer2) > 0)\n",
    "    {\n",
    "        composer2 = comp;\n",
    "    }\n",
    "}\n",
    "\n",
    "Console.WriteLine($\"The first composer in the dictionary: {composer1}\");\n",
    "Console.WriteLine($\"The last composer in the dictionary: {composer2}\");"
   ]
  },
  {
   "cell_type": "markdown",
   "id": "68a823c7",
   "metadata": {},
   "source": [
    "Question 3\n",
    "\n",
    "Implement function triangleArea(a,b,c) that takes as input the lengths of the 3\n",
    "sides of a triangle and returns the area of the triangle. By Heron's formula, the area\n",
    "of a triangle with side lengths a, b, and c is\n",
    "s(s - a)(s -b)(s -c), where\n",
    "s = (a +b + c) /2.\n",
    "\n",
    "\n",
    "========User Input code=======\n",
    "\n",
    "Console.WriteLine(\"Enter the value of side a\");\n",
    "double a = double.Parse(Console.ReadLine());\n",
    "Console.WriteLine(\"Enter the value of side b\");\n",
    "double b = double.Parse(Console.ReadLine());\n",
    "Console.WriteLine(\"Enter the value of side c\");\n",
    "double c = double.Parse(Console.ReadLine());\n",
    "\n",
    "static double triangleArea(double a, double b, double c)\n",
    "{\n",
    "    double s = (a + b + c) / 2;\n",
    "    double Area = Math.Sqrt(s * (s - a) * (s - b) * (s - c));\n",
    "    return Area;\n",
    "\n",
    "}\n",
    "\n",
    "double area = triangleArea(a, b, c);\n",
    "\n",
    "Console.WriteLine(\"The area of the triangle is: \" + area);"
   ]
  },
  {
   "cell_type": "code",
   "execution_count": 71,
   "id": "24ebd5e4",
   "metadata": {},
   "outputs": [
    {
     "name": "stdout",
     "output_type": "stream",
     "text": [
      "The area of the triangle is: 1.7320508075688772\r\n"
     ]
    }
   ],
   "source": [
    "static double triangleArea(double a, double b, double c)\n",
    "{\n",
    "    double s = (a + b + c) / 2;\n",
    "    double Area = Math.Sqrt(s * (s - a) * (s - b) * (s - c));\n",
    "    return Area;\n",
    "\n",
    "}\n",
    "\n",
    "double area = triangleArea(2,2,2);\n",
    "\n",
    "Console.WriteLine($\"The area of the triangle is: {area}\");"
   ]
  },
  {
   "cell_type": "markdown",
   "id": "56e7167c",
   "metadata": {},
   "source": [
    "Question 4:\n",
    "\n",
    "Write a program in C# Sharp to separate odd and even integers in separate arrays.\n",
    "Go to the editor\n",
    "Test Data :\n",
    "Input the number of elements to be stored in the array :5\n",
    "Input 5 elements in the array :\n",
    "element - 0 : 25\n",
    "element - 1 : 47\n",
    "element - 2 : 42\n",
    "element - 3 : 56\n",
    "element - 4 : 32\n",
    "Expected Output:\n",
    "The Even elements are:\n",
    "42 56 32\n",
    "The Odd elements are :\n",
    "25 47\n",
    "\n",
    "============= User input code =============\n",
    "\n",
    "Console.Write(\"Input the number of elements to be stored in the array: \");\n",
    "int n = int.Parse(Console.ReadLine());\n",
    "\n",
    "int[] inpArray = new int[n];\n",
    "int[] evenArray = new int[n];\n",
    "int[] oddArray = new int[n];\n",
    "\n",
    "Console.WriteLine(\"Input {0} elements in the array:\", n);\n",
    "for (int i = 0; i < n; i++)\n",
    "{\n",
    "    Console.Write(\"element - {0} : \", i);\n",
    "    inpArray[i] = int.Parse(Console.ReadLine());\n",
    "}\n",
    "\n",
    "int evenCount = 0;\n",
    "int oddCount = 0;\n",
    "\n",
    "foreach (int num in inpArray)\n",
    "{\n",
    "    if (num % 2 == 0)\n",
    "    {\n",
    "        evenArray[evenCount] = num;\n",
    "        evenCount++;\n",
    "    }\n",
    "    else\n",
    "    {\n",
    "        oddArray[oddCount] = num;\n",
    "        oddCount++;\n",
    "    }\n",
    "}\n",
    "\n",
    "Console.WriteLine(\"The Even elements are:\");\n",
    "for (int i = 0; i < evenCount; i++)\n",
    "{\n",
    "    Console.Write(evenArray[i] + \" \");\n",
    "}\n",
    "Console.WriteLine();\n",
    "\n",
    "Console.WriteLine(\"The Odd elements are:\");\n",
    "for (int i = 0; i < oddCount; i++)\n",
    "{\n",
    "    Console.Write(oddArray[i] + \" \");\n",
    "}\n",
    "Console.WriteLine();"
   ]
  },
  {
   "cell_type": "code",
   "execution_count": 4,
   "id": "5bc0db04",
   "metadata": {},
   "outputs": [
    {
     "name": "stdout",
     "output_type": "stream",
     "text": [
      "The Even elements are:\n",
      "42 56 32 \n",
      "The Odd elements are:\n",
      "25 47 \n"
     ]
    }
   ],
   "source": [
    "int n = 5;\n",
    "int[] inpArray = new int [n];\n",
    "int[] evenArray = new int[n];\n",
    "int[] oddArray = new int[n];\n",
    "inpArray[0] = 25;\n",
    "inpArray[1] = 47;\n",
    "inpArray[2] = 42;\n",
    "inpArray[3] = 56;\n",
    "inpArray[4] = 32;\n",
    "int evenCount = 0;\n",
    "int oddCount = 0;\n",
    "foreach (int i in inpArray)\n",
    "{\n",
    "    if (i % 2 == 0)\n",
    "    {\n",
    "        evenArray[evenCount] = i;\n",
    "        evenCount++;\n",
    "    }\n",
    "    else\n",
    "    {\n",
    "        oddArray[oddCount] = i;\n",
    "        oddCount++;\n",
    "    }\n",
    "}\n",
    "\n",
    "Console.WriteLine(\"The Even elements are:\");\n",
    "for (int j = 0; j < evenCount; j++)\n",
    "{\n",
    "    Console.Write(evenArray[j] + \" \");\n",
    "}\n",
    "Console.WriteLine();\n",
    "Console.WriteLine(\"The Odd elements are:\");\n",
    "for (int j = 0; j < oddCount; j++)\n",
    "{\n",
    "    Console.Write(oddArray[j] + \" \");\n",
    "}\n",
    "Console.WriteLine();"
   ]
  },
  {
   "cell_type": "markdown",
   "id": "fe2af9b2",
   "metadata": {},
   "source": [
    "Question 5\n",
    "\n",
    "a.Write a function inside(x,y,x1,y1,x2,y2) that returns True or False depending on whether the point (x,y) lies in the rectangle with lower left corner (x1,y1) and upper right corner (x2,y2).\n",
    "\n",
    "\n",
    "============ User Input code=============\n",
    "\n",
    "Console.WriteLine(\"Enter the point value x\");\n",
    "double x = double.Parse(Console.ReadLine());\n",
    "Console.WriteLine(\"Enter the point value y\");\n",
    "double y = double.Parse(Console.ReadLine());\n",
    "Console.WriteLine(\"Enter the value of lower left corner x1\");\n",
    "double x1 = double.Parse(Console.ReadLine());\n",
    "Console.WriteLine(\"Enter the value of lower left corner y1\");\n",
    "double y1 = double.Parse(Console.ReadLine());\n",
    "Console.WriteLine(\"Enter the value of upper right corner x2\");\n",
    "double x2 = double.Parse(Console.ReadLine());\n",
    "Console.WriteLine(\"Enter the value of upper right corner y2\");\n",
    "double y2 = double.Parse(Console.ReadLine());\n",
    "\n",
    "static bool inside(double x, double y, double x1, double y1, double x2, double y2)\n",
    "{\n",
    "\n",
    "    return (x >= x1 && x <= x2 && y >= y1 && y <= y2);\n",
    "}\n",
    "\n",
    "bool insideRect = inside(x, y, x1, y1, x2, y2);\n",
    "\n",
    "\n",
    "if (insideRect)\n",
    "{\n",
    "    Console.WriteLine($\"inside ({x},{y},{x1},{y1},{x2},{y2}) True\");\n",
    "}\n",
    "else\n",
    "{\n",
    "    Console.WriteLine($\"inside ({x},{y},{x1},{y1},{x2},{y2}) False\");\n",
    "}"
   ]
  },
  {
   "cell_type": "code",
   "execution_count": 103,
   "id": "478a6466",
   "metadata": {},
   "outputs": [
    {
     "name": "stdout",
     "output_type": "stream",
     "text": [
      "inside(1,1,0,0,2,3): True\n",
      "inside(-1,-1,0,0,2,3): False\n"
     ]
    }
   ],
   "source": [
    "static bool inside(double x, double y, double x1, double y1, double x2, double y2)\n",
    "{\n",
    "\n",
    "    return (x >= x1 && x <= x2 && y >= y1 && y <= y2);\n",
    "}\n",
    "\n",
    "bool insideRect1 = inside(1,1,0,0,2,3);\n",
    "bool insideRect2 = inside(-1,-1,0,0,2,3);\n",
    "\n",
    "\n",
    "if (insideRect1)\n",
    "{\n",
    "    Console.WriteLine($\"inside(1,1,0,0,2,3): True\");\n",
    "}\n",
    "else\n",
    "{\n",
    "    Console.WriteLine($\"inside(1,1,0,0,2,3): False\");\n",
    "}\n",
    "if (insideRect2)\n",
    "{\n",
    "    Console.WriteLine($\"inside(-1,-1,0,0,2,3): True\");\n",
    "}\n",
    "else\n",
    "{\n",
    "    Console.WriteLine($\"inside(-1,-1,0,0,2,3): False\");\n",
    "}"
   ]
  },
  {
   "cell_type": "markdown",
   "id": "69f75fb4",
   "metadata": {},
   "source": [
    "b. Use function inside() from part a. to write an expression that tests whether the point (1,1) lies in both of the following rectangles: one with lower left corner (0.3, 0.5) and upper right corner (1.1, 0.7) and the other with lower left corner (0.5, 0.2) and upper right corner (1.1, 2)."
   ]
  },
  {
   "cell_type": "code",
   "execution_count": 79,
   "id": "619e34b2",
   "metadata": {},
   "outputs": [
    {
     "name": "stdout",
     "output_type": "stream",
     "text": [
      "(1,1) is not a point that lies inside both rectangles.\r\n"
     ]
    }
   ],
   "source": [
    "static bool inside(double x, double y, double x1, double y1, double x2, double y2)\n",
    "{\n",
    "    return (x >= x1 && x <= x2 && y >= y1 && y <= y2);\n",
    "}\n",
    "bool insideRectng1 = inside(1,1,0.3,0.5,1.1,0.7);\n",
    "bool insideRectng2 = inside(1,1,0.5,0.2,1.1,2);\n",
    "if (insideRectng1 && insideRectng2)\n",
    "{\n",
    "    Console.WriteLine($\"(1,1) is a point that lies inside both rectangles.\");\n",
    "}\n",
    "else\n",
    "{\n",
    "    Console.WriteLine($\"(1,1) is not a point that lies inside both rectangles.\");\n",
    "}"
   ]
  },
  {
   "cell_type": "code",
   "execution_count": null,
   "id": "138ff768",
   "metadata": {},
   "outputs": [],
   "source": [
    "\n"
   ]
  }
 ],
 "metadata": {
  "kernelspec": {
   "display_name": ".NET (C#)",
   "language": "C#",
   "name": ".net-csharp"
  },
  "language_info": {
   "file_extension": ".cs",
   "mimetype": "text/x-csharp",
   "name": "C#",
   "pygments_lexer": "csharp",
   "version": "8.0"
  }
 },
 "nbformat": 4,
 "nbformat_minor": 5
}
