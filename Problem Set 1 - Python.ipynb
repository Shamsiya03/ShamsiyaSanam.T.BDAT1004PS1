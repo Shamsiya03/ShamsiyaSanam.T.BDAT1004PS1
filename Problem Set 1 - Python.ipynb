{
 "cells": [
  {
   "cell_type": "markdown",
   "id": "c46dbda7",
   "metadata": {},
   "source": [
    "Question 6\n",
    "You can turn a word into pig-Latin using the following two rules (simplified):\n",
    "• If the word starts with a consonant, move that letter to the end and append 'ay'. For example, 'happy' becomes 'appyhay' and 'pencil' becomes 'encilpay'.\n",
    "• If the word starts with a vowel, simply append 'way' to the end of the word. For example, 'enter' becomes 'enterway' and 'other' becomes 'otherway' . For our purposes, there are 5 vowels: a, e, i, o, u (so we count y as a consonant).\n",
    "Write a function pig() that takes a word (i.e., a string) as input and returns its pig-Latin form. Your function should still work if the input word contains upper case characters. Your output should always be lower case however."
   ]
  },
  {
   "cell_type": "code",
   "execution_count": 1,
   "id": "c6a6f7aa",
   "metadata": {},
   "outputs": [
    {
     "name": "stdout",
     "output_type": "stream",
     "text": [
      "Enter the input word: happy\n",
      "appyhay\n",
      "Enter the input word: Enter\n",
      "enterway\n"
     ]
    }
   ],
   "source": [
    "def pig(word):\n",
    "    word = word.lower()\n",
    "    vowelLetters = \"aeiou\" \n",
    "    if word[0] in vowelLetters:\n",
    "        output = word + \"way\"\n",
    "    else:\n",
    "        output = word[1:] + word[0] + \"ay\"\n",
    "    return output\n",
    "\n",
    "user_input1= input(\"Enter the input word: \")\n",
    "print(pig(user_input1))\n",
    "user_input2= input(\"Enter the input word: \")\n",
    "print(pig(user_input2))  "
   ]
  },
  {
   "cell_type": "markdown",
   "id": "813fb7d6",
   "metadata": {},
   "source": [
    "Question 7\n",
    "File bloodtype1.txt records blood-types of patients (A, B, AB, O or OO) at a clinic. Write a function bldcount() that reads the file with name name and reports (i.e., prints) how many patients there are in each bloodtype."
   ]
  },
  {
   "cell_type": "code",
   "execution_count": 2,
   "id": "d791d5e5",
   "metadata": {},
   "outputs": [
    {
     "name": "stdout",
     "output_type": "stream",
     "text": [
      "There are 15 patients of blood group A.\n",
      "There is 1 patient of blood group B.\n",
      "There are 13 patients of blood group AB.\n",
      "There are 15 patients of blood group O.\n",
      "There are no patients of blood group OO.\n"
     ]
    }
   ],
   "source": [
    "def bldcount(filename):\n",
    " o = open(filename, \"r\")\n",
    " get_count = 0\n",
    " change_array = o.read().split()\n",
    " bldGrp_data = ['A','B','AB','O','OO']\n",
    " for c in bldGrp_data:\n",
    "    get_count = change_array.count(c)\n",
    "    if get_count == 1:\n",
    "        print(\"There is {0} patient of blood group {1}.\".format(get_count,c))\n",
    "    elif get_count == 0:\n",
    "        print(\"There are no patients of blood group {1}.\".format(get_count,c))\n",
    "    else :\n",
    "        print(\"There are {0} patients of blood group {1}.\".format(get_count,c))\n",
    "bldcount(\"bloodtype1.txt\")"
   ]
  },
  {
   "cell_type": "markdown",
   "id": "1b196878",
   "metadata": {},
   "source": [
    "Question 8\n",
    "Write a function curconv() that takes as input:\n",
    "1. a currency represented using a string (e.g., 'JPY' for the Japanese Yen or 'EUR' for the Euro)\n",
    "2. an amount\n",
    "and then converts and returns the amount in US dollars."
   ]
  },
  {
   "cell_type": "code",
   "execution_count": 11,
   "id": "0a8370fc",
   "metadata": {},
   "outputs": [
    {
     "name": "stdout",
     "output_type": "stream",
     "text": [
      "Enter Currency:\n",
      "EUR\n",
      "Enter Value:\n",
      "100\n",
      "curconv(EUR,100)\n",
      "122.96544\n",
      "\n",
      "Enter Currency:\n",
      "JPY\n",
      "Enter Value:\n",
      "100\n",
      "curconv(JPY,100)\n",
      "1.241401\n"
     ]
    }
   ],
   "source": [
    "def curconv(curr_str,curr_amount):\n",
    "    o = open(\"currencies.txt\", \"r\") \n",
    "    split_data = o.read().split()\n",
    "    val_index = split_data.index(curr_str)\n",
    "    conv_value = split_data[val_index+1]\n",
    "    calc_ans = float(conv_value) * float(curr_amount)\n",
    "    print(calc_ans)\n",
    "\n",
    "print(\"Enter Currency:\")\n",
    "curr_str = input()\n",
    "print(\"Enter Value:\")\n",
    "curr_amount= input()\n",
    "print(\"curconv(\"+ curr_str+\",\"+curr_amount+\")\")\n",
    "curconv(curr_str,curr_amount)\n",
    "print()\n",
    "print(\"Enter Currency:\")\n",
    "curr_str = input()\n",
    "print(\"Enter Value:\")\n",
    "curr_amount= input()\n",
    "print(\"curconv(\"+ curr_str+\",\"+curr_amount+\")\")\n",
    "curconv(curr_str,curr_amount)"
   ]
  },
  {
   "cell_type": "markdown",
   "id": "a1aaf380",
   "metadata": {},
   "source": [
    "Question 9\n",
    "Each of the following will cause an exception (an error). Identify what type of exception each will cause.\n",
    "Trying to add incompatible variables, as in adding 6 + ‘a’\n",
    "Referring to the 12th item of a list that has only 10 items\n",
    "Using a value that is out of range for a function’s input, such as calling math.sqrt( 1.0)\n",
    "Using an undeclared variable, such as print(x)\n",
    "when x has not been defined\n",
    "Trying to open a file that does not exist, such as mistyping the file name or looking in the wrong directory."
   ]
  },
  {
   "cell_type": "markdown",
   "id": "d1fd712a",
   "metadata": {},
   "source": [
    "a.Trying to add incompatible variables, as in adding 6 + 'a'"
   ]
  },
  {
   "cell_type": "code",
   "execution_count": 10,
   "id": "b9f4d980",
   "metadata": {},
   "outputs": [
    {
     "ename": "TypeError",
     "evalue": "unsupported operand type(s) for +: 'int' and 'str'",
     "output_type": "error",
     "traceback": [
      "\u001b[1;31m---------------------------------------------------------------------------\u001b[0m",
      "\u001b[1;31mTypeError\u001b[0m                                 Traceback (most recent call last)",
      "Cell \u001b[1;32mIn[10], line 1\u001b[0m\n\u001b[1;32m----> 1\u001b[0m \u001b[38;5;241m6\u001b[39m \u001b[38;5;241m+\u001b[39m \u001b[38;5;124m'\u001b[39m\u001b[38;5;124ma\u001b[39m\u001b[38;5;124m'\u001b[39m\n",
      "\u001b[1;31mTypeError\u001b[0m: unsupported operand type(s) for +: 'int' and 'str'"
     ]
    }
   ],
   "source": [
    "6 + 'a'"
   ]
  },
  {
   "cell_type": "markdown",
   "id": "63ce46c2",
   "metadata": {},
   "source": [
    "So answer is : unsupported operand type"
   ]
  },
  {
   "cell_type": "markdown",
   "id": "e70e6051",
   "metadata": {},
   "source": [
    "b.Referring to the 12th item of a list that has only 10 items"
   ]
  },
  {
   "cell_type": "code",
   "execution_count": 4,
   "id": "298bb76c",
   "metadata": {},
   "outputs": [
    {
     "ename": "IndexError",
     "evalue": "list index out of range",
     "output_type": "error",
     "traceback": [
      "\u001b[1;31m---------------------------------------------------------------------------\u001b[0m",
      "\u001b[1;31mIndexError\u001b[0m                                Traceback (most recent call last)",
      "Cell \u001b[1;32mIn[4], line 2\u001b[0m\n\u001b[0;32m      1\u001b[0m Array \u001b[38;5;241m=\u001b[39m [\u001b[38;5;241m1\u001b[39m, \u001b[38;5;241m2\u001b[39m, \u001b[38;5;241m3\u001b[39m, \u001b[38;5;241m4\u001b[39m, \u001b[38;5;241m5\u001b[39m, \u001b[38;5;241m6\u001b[39m, \u001b[38;5;241m7\u001b[39m, \u001b[38;5;241m8\u001b[39m, \u001b[38;5;241m9\u001b[39m, \u001b[38;5;241m10\u001b[39m]\n\u001b[1;32m----> 2\u001b[0m item \u001b[38;5;241m=\u001b[39m Array[\u001b[38;5;241m11\u001b[39m]\n",
      "\u001b[1;31mIndexError\u001b[0m: list index out of range"
     ]
    }
   ],
   "source": [
    "Array = [1, 2, 3, 4, 5, 6, 7, 8, 9, 10]\n",
    "item = Array[11]"
   ]
  },
  {
   "cell_type": "markdown",
   "id": "43932bee",
   "metadata": {},
   "source": [
    "So answer is : list index out of range"
   ]
  },
  {
   "cell_type": "markdown",
   "id": "bd5d5a17",
   "metadata": {},
   "source": [
    "c.Using a value that is out of range for a function’s input, such as calling math.sqrt(-1.0)"
   ]
  },
  {
   "cell_type": "code",
   "execution_count": 6,
   "id": "527c2f5a",
   "metadata": {},
   "outputs": [
    {
     "ename": "ValueError",
     "evalue": "math domain error",
     "output_type": "error",
     "traceback": [
      "\u001b[1;31m---------------------------------------------------------------------------\u001b[0m",
      "\u001b[1;31mValueError\u001b[0m                                Traceback (most recent call last)",
      "Cell \u001b[1;32mIn[6], line 2\u001b[0m\n\u001b[0;32m      1\u001b[0m \u001b[38;5;28;01mimport\u001b[39;00m \u001b[38;5;21;01mmath\u001b[39;00m\n\u001b[1;32m----> 2\u001b[0m result \u001b[38;5;241m=\u001b[39m math\u001b[38;5;241m.\u001b[39msqrt(\u001b[38;5;241m-\u001b[39m\u001b[38;5;241m1.0\u001b[39m)\n",
      "\u001b[1;31mValueError\u001b[0m: math domain error"
     ]
    }
   ],
   "source": [
    "import math\n",
    "result = math.sqrt(-1.0)"
   ]
  },
  {
   "cell_type": "markdown",
   "id": "8d41eefc",
   "metadata": {},
   "source": [
    "So answer is : math domain error"
   ]
  },
  {
   "cell_type": "markdown",
   "id": "3fc7ae6a",
   "metadata": {},
   "source": [
    "d.Using an undeclared variable, such as p rint(x) when x has not been defined"
   ]
  },
  {
   "cell_type": "code",
   "execution_count": 8,
   "id": "97eca674",
   "metadata": {},
   "outputs": [
    {
     "ename": "NameError",
     "evalue": "name 'x' is not defined",
     "output_type": "error",
     "traceback": [
      "\u001b[1;31m---------------------------------------------------------------------------\u001b[0m",
      "\u001b[1;31mNameError\u001b[0m                                 Traceback (most recent call last)",
      "Cell \u001b[1;32mIn[8], line 1\u001b[0m\n\u001b[1;32m----> 1\u001b[0m result \u001b[38;5;241m=\u001b[39m \u001b[38;5;28mprint\u001b[39m(x)\n",
      "\u001b[1;31mNameError\u001b[0m: name 'x' is not defined"
     ]
    }
   ],
   "source": [
    "result = print(x) "
   ]
  },
  {
   "cell_type": "markdown",
   "id": "6f997e6d",
   "metadata": {},
   "source": [
    "So answer is : 'x' is not defined"
   ]
  },
  {
   "cell_type": "markdown",
   "id": "7ce4a1a7",
   "metadata": {},
   "source": [
    "e.Trying to open a file that does not exist, such as mistyping the file name or looking in the wrong directory."
   ]
  },
  {
   "cell_type": "code",
   "execution_count": 9,
   "id": "fcde971b",
   "metadata": {},
   "outputs": [
    {
     "ename": "FileNotFoundError",
     "evalue": "[Errno 2] No such file or directory: 'nonexistent_file.txt'",
     "output_type": "error",
     "traceback": [
      "\u001b[1;31m---------------------------------------------------------------------------\u001b[0m",
      "\u001b[1;31mFileNotFoundError\u001b[0m                         Traceback (most recent call last)",
      "Cell \u001b[1;32mIn[9], line 2\u001b[0m\n\u001b[0;32m      1\u001b[0m filename \u001b[38;5;241m=\u001b[39m \u001b[38;5;124m'\u001b[39m\u001b[38;5;124mnonexistent_file.txt\u001b[39m\u001b[38;5;124m'\u001b[39m\n\u001b[1;32m----> 2\u001b[0m \u001b[38;5;28;01mwith\u001b[39;00m \u001b[38;5;28mopen\u001b[39m(filename, \u001b[38;5;124m'\u001b[39m\u001b[38;5;124mr\u001b[39m\u001b[38;5;124m'\u001b[39m) \u001b[38;5;28;01mas\u001b[39;00m file:\n\u001b[0;32m      3\u001b[0m     content \u001b[38;5;241m=\u001b[39m file\u001b[38;5;241m.\u001b[39mread()\n",
      "File \u001b[1;32m~\\anaconda3\\Lib\\site-packages\\IPython\\core\\interactiveshell.py:284\u001b[0m, in \u001b[0;36m_modified_open\u001b[1;34m(file, *args, **kwargs)\u001b[0m\n\u001b[0;32m    277\u001b[0m \u001b[38;5;28;01mif\u001b[39;00m file \u001b[38;5;129;01min\u001b[39;00m {\u001b[38;5;241m0\u001b[39m, \u001b[38;5;241m1\u001b[39m, \u001b[38;5;241m2\u001b[39m}:\n\u001b[0;32m    278\u001b[0m     \u001b[38;5;28;01mraise\u001b[39;00m \u001b[38;5;167;01mValueError\u001b[39;00m(\n\u001b[0;32m    279\u001b[0m         \u001b[38;5;124mf\u001b[39m\u001b[38;5;124m\"\u001b[39m\u001b[38;5;124mIPython won\u001b[39m\u001b[38;5;124m'\u001b[39m\u001b[38;5;124mt let you open fd=\u001b[39m\u001b[38;5;132;01m{\u001b[39;00mfile\u001b[38;5;132;01m}\u001b[39;00m\u001b[38;5;124m by default \u001b[39m\u001b[38;5;124m\"\u001b[39m\n\u001b[0;32m    280\u001b[0m         \u001b[38;5;124m\"\u001b[39m\u001b[38;5;124mas it is likely to crash IPython. If you know what you are doing, \u001b[39m\u001b[38;5;124m\"\u001b[39m\n\u001b[0;32m    281\u001b[0m         \u001b[38;5;124m\"\u001b[39m\u001b[38;5;124myou can use builtins\u001b[39m\u001b[38;5;124m'\u001b[39m\u001b[38;5;124m open.\u001b[39m\u001b[38;5;124m\"\u001b[39m\n\u001b[0;32m    282\u001b[0m     )\n\u001b[1;32m--> 284\u001b[0m \u001b[38;5;28;01mreturn\u001b[39;00m io_open(file, \u001b[38;5;241m*\u001b[39margs, \u001b[38;5;241m*\u001b[39m\u001b[38;5;241m*\u001b[39mkwargs)\n",
      "\u001b[1;31mFileNotFoundError\u001b[0m: [Errno 2] No such file or directory: 'nonexistent_file.txt'"
     ]
    }
   ],
   "source": [
    "filename = 'nonexistent_file.txt'\n",
    "with open(filename, 'r') as file:\n",
    "    content = file.read()"
   ]
  },
  {
   "cell_type": "markdown",
   "id": "2e038a9c",
   "metadata": {},
   "source": [
    "So answer is : No such file or directory"
   ]
  },
  {
   "cell_type": "markdown",
   "id": "54f3d88f",
   "metadata": {},
   "source": [
    "Question 10\n",
    "Encryption is the process of hiding the meaning of a text by substituting letters in the message with other letters, according to some system. If the process is successful, no one but the intended recipient can understand the encrypted message. Cryptanalysis refers to attempts to undo the encryption, even if some details of the encryption are unknown (for example, if an encrypted message has been intercepted). The first step of cryptanalysis is often to build up a table of letter frequencies in the encrypted text. Assume that the string letters is already defined as 'abcdefghijklmnopqrstuvwxyz'. Write a function called frequencies() that takes a string as its only parameter, and returns a list of integers, showing the number of times each character appears in the text. Your function may ignore any characters that are not in letters."
   ]
  },
  {
   "cell_type": "code",
   "execution_count": 8,
   "id": "8800e0fe",
   "metadata": {},
   "outputs": [
    {
     "name": "stdout",
     "output_type": "stream",
     "text": [
      "[1, 1, 1, 3, 5, 1, 1, 2, 1, 0, 1, 0, 1, 2, 4, 0, 1, 2, 0, 2, 1, 0, 1, 1, 0, 0]\n",
      "[1, 0, 0, 0, 1, 0, 0, 0, 0, 0, 0, 1, 0, 0, 0, 2, 0, 0, 0, 0, 0, 0, 0, 0, 0, 0]\n"
     ]
    }
   ],
   "source": [
    "def frequencies(string):\n",
    "    char_string = []\n",
    "    char_freq = []\n",
    "    string_letters = \"abcdefghijklmnopkrstuvwxyz\"\n",
    "\n",
    "    for x in string:\n",
    "        char_string.append(x)\n",
    "    \n",
    "    for x in string_letters:\n",
    "        char_freq.append(char_string.count(x))\n",
    "        \n",
    "    print(char_freq)\n",
    "\n",
    "frequencies('The quick red fox got bored and went home')\n",
    "frequencies('apple')"
   ]
  },
  {
   "cell_type": "code",
   "execution_count": null,
   "id": "23fdc0e5",
   "metadata": {},
   "outputs": [],
   "source": []
  },
  {
   "cell_type": "code",
   "execution_count": null,
   "id": "c1b1b927",
   "metadata": {},
   "outputs": [],
   "source": []
  }
 ],
 "metadata": {
  "kernelspec": {
   "display_name": "Python 3 (ipykernel)",
   "language": "python",
   "name": "python3"
  },
  "language_info": {
   "codemirror_mode": {
    "name": "ipython",
    "version": 3
   },
   "file_extension": ".py",
   "mimetype": "text/x-python",
   "name": "python",
   "nbconvert_exporter": "python",
   "pygments_lexer": "ipython3",
   "version": "3.11.4"
  }
 },
 "nbformat": 4,
 "nbformat_minor": 5
}
